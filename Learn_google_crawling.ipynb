{
 "cells": [
  {
   "cell_type": "markdown",
   "id": "12641ac3",
   "metadata": {},
   "source": [
    "(1) 셀 선택 모드 (Command Mode)\n",
    "\n",
    " \n",
    "\n",
    "파란색은 셀 선택 상태입니다. (선택상태)\n",
    "\n",
    "[ESC] 또는 [Ctrl] + [m]를 눌러 셀이 아래와 같이 파란색이 된 상태(셀 선택 모드)에서 해당 단축키 누름\n",
    "\n",
    "\n",
    "a : 위에 새로운 셀 추가\n",
    "b : 아래에 새로운 셀 추가\n",
    "\n",
    "\n",
    "c : 셀 복사하기\n",
    "v : 셀 붙여넣기\n",
    "x : 셀 잘라내기\n",
    "dd : 셀 삭제하기\n",
    "\n",
    "p : 셀 아래에 붙여넣기\n",
    "\n",
    " \n",
    "\n",
    "o : 실행결과 열기/닫기\n",
    "\n",
    "m : Markdown으로 변경\n",
    "\n",
    "y : Code로 변경\n",
    "\n",
    "Shift + m : 선택 셀과 아래 셀과 합치기\n",
    "\n",
    "Ctrl + s 또는 s  : 파일 저장\n",
    "\n",
    "Enter  : 선택 셀의 코드 입력 모드로 돌아가기\n",
    "\n",
    " \n",
    "\n",
    " \n",
    "\n",
    " \n",
    "\n",
    "(2) 코드 입력 모드 (Edit Mode)\n",
    "\n",
    " \n",
    "\n",
    "초록색은 코드 입력 가능 상태입니다. (입력상태)\n",
    "\n",
    "[Enter]를 눌러 셀이 아래와 같이 초록색이 된 상태(코드 입력 모드)에서 해당 단축키 누름\n",
    "\n",
    "\n",
    " \n",
    "\n",
    "Ctrl + Enter : 입력 셀 실행 \n",
    "Shift + Enter : 입력 셀 실행 후 아래 셀로 이동 (없으면 새로운 셀 추가)\n",
    "Alt + Enter : 입력영역 실행 후 아래 새로운 영역 추가\n",
    "\n",
    " \n",
    "\n",
    "Ctrl + a : 선택 셀의 코드 전체 선택\n",
    "\n",
    "Ctrl + z : 선택 셀 내 실행 취소\n",
    "\n",
    "Ctrl + y : 선택 셀 내 다시 실행\n",
    "\n",
    "Ctrl + / : 커서 위치 라인 주석처리\n",
    "\n",
    " \n",
    "\n",
    "Shitf + Ctrl + - : 커서 위치에서 셀 둘로 나누기"
   ]
  },
  {
   "cell_type": "markdown",
   "id": "475912fa",
   "metadata": {},
   "source": [
    "### xpath 문법\n",
    "\n",
    "- 표현\t설명\n",
    "- nodename\t노드명이 \"nodename\"인 노드 선택\n",
    "- /\t루트 노드로부터 선택\n",
    "- //\t현재 노드로부터 문서상의 모든 노드를 조회\n",
    "- .\t현재 노드 선택\n",
    "- ..\t현재 노드의 부모노드 선택\n",
    "- @\t현재 노드의 속성 선택\n",
    " "
   ]
  },
  {
   "cell_type": "markdown",
   "id": "acec21f3",
   "metadata": {},
   "source": [
    "### 다른 문법\n",
    "- By.ID\t태그의 id값으로 추출\n",
    "- By.NAME\t태그의 name값으로 추출\n",
    "- By.XPATH\t태그의 경로로 추출\n",
    "- By.LINK_TEXT\t링크 텍스트값으로 추출\n",
    "- By.PARTIAL_LINK_TEXT\t링크 텍스트의 자식 텍스트 값을 추출\n",
    "- By.TAG_NAME\t태그 이름으로 추출\n",
    "- By.CLASS_NAME\t태그의 클래스명으로 추출\n",
    "- By.CSS_SELECTOR\tcss선택자로 추출"
   ]
  },
  {
   "cell_type": "markdown",
   "id": "021dc59e",
   "metadata": {},
   "source": [
    "- `selenium`: 웹 자동화 라이브러리입니다. 이를 사용하여 브라우저 조작을 자동화할 수 있습니다.\n",
    "- `subprocess`: 파이썬에서 외부 프로그램을 실행할 수 있도록 지원하는 모듈입니다.\n",
    "- `shutil`: 파일 및 디렉토리 작업을 위한 파이썬 기본 모듈입니다.\n",
    "- `pandas`: 데이터 분석을 위한 라이브러리입니다.\n",
    "- `time`: 시간을 다루기 위한 파이썬 기본 모듈입니다.\n",
    "- `webdriver_manager`: 다양한 브라우저 드라이버를 자동으로 설치해주는 라이브러리입니다. 여기서는 Chrome 브라우저 드라이버를 사용하기 위해 `ChromeDriverManager`를 import 하였습니다.\n",
    "- `selenium.webdriver.chrome.service`: `webdriver_manager`와 함께 Chrome 브라우저를 조작하기 위해 사용하는 모듈입니다.\n",
    "- `selenium.webdriver.chrome.options`: Chrome 브라우저의 옵션을 조작하기 위한 모듈입니다.\n",
    "- `selenium.webdriver.common.by`: Selenium에서 사용되는 `By` 클래스에 접근하기 위한 모듈입니다.\n",
    "- `selenium.webdriver.support.ui`: Selenium에서 사용되는 `WebDriverWait` 클래스와 `expected_conditions` 모듈에 접근하기 위한 모듈입니다.\n",
    "- `selenium.webdriver.common.keys`: Selenium에서 사용되는 키보드 조작에 필요한 클래스인 `Keys`에 접근하기 위한 모듈입니다."
   ]
  },
  {
   "cell_type": "markdown",
   "id": "10839e77",
   "metadata": {},
   "source": [
    "- 보통 Selenium에서는 웹 페이지가 로딩되기를 기다려야 하기 때문에, 이 메서드는 주로 웹 페이지가 로딩되기를 기다리는 용도로 사용됩니다. \n",
    "\n",
    "- `wait.until()` 메서드는 매개 변수로 조건(condition)을 받으며, 이 조건이 충족될 때까지 계속 대기합니다. `presence_of_element_located`는 조건의 종류 중 하나로, 해당 element가 존재할 때까지 기다리는 조건입니다. 이때, `By.ID`로 지정된 element ID `entryIframe`가 존재할 때까지 기다립니다. \n",
    "\n",
    "- 따라서 `iframe = wait.until(EC.presence_of_element_located((By.ID, \"entryIframe\")))` 코드는 `entryIframe`이라는 ID를 가진 요소가 웹 페이지에 로딩될 때까지 기다리고, 해당 요소가 로딩되면 `iframe` 변수에 해당 요소를 할당합니다."
   ]
  },
  {
   "cell_type": "code",
   "execution_count": 1,
   "id": "f8727287",
   "metadata": {},
   "outputs": [],
   "source": [
    "# # 패키지 설치\n",
    "# # 패키지가 궁금하다면 gpt한테 물어보자!\n",
    "\n",
    "# !pip install selenium\n",
    "# !pip install webdriver_manager\n",
    "# !pip install pandas\n",
    "\n",
    "# from webdriver_manager.chrome import ChromeDriverManager\n",
    "\n",
    "# driver = webdriver.Chrome(service=Service(ChromeDriverManager().install()), options=options)\n"
   ]
  },
  {
   "cell_type": "code",
   "execution_count": 2,
   "id": "f610b08f",
   "metadata": {},
   "outputs": [],
   "source": [
    "from selenium.webdriver.chrome.service import Service\n",
    "from webdriver_manager.chrome import ChromeDriverManager\n",
    "from selenium import webdriver\n",
    "from selenium.webdriver.chrome.options import Options\n",
    "import subprocess\n",
    "import shutil\n",
    "from selenium.webdriver.common.by import By\n",
    "import pandas as pd\n",
    "import time\n",
    "\n",
    "from selenium.webdriver.support.ui import WebDriverWait\n",
    "from selenium.webdriver.support import expected_conditions as EC\n",
    "\n",
    "# 셀레니움 신버전 크롬 드라이버 패키지\n",
    "\n",
    "from selenium.webdriver.chrome.service import Service\n",
    "from webdriver_manager.chrome import ChromeDriverManager\n"
   ]
  },
  {
   "cell_type": "code",
   "execution_count": 3,
   "id": "3aa4f3b1",
   "metadata": {},
   "outputs": [],
   "source": [
    "# 1 내가 어디서 데이터를 찾을지 주소를 먼저 적어두자\n",
    "# 영화 리뷰 사이트를 이용해보자 - 해당 url은 최근 인기있는 영화배우 순위를 알려준다.\n",
    "# 참고로 Beautifulsoup과 같은 크롤러는 url을 통해 크롤링 한다. (페이지마다 url이 다를 경우)\n",
    "\n",
    "url = 'http://www.cine21.com/rank/person'"
   ]
  },
  {
   "cell_type": "code",
   "execution_count": 4,
   "id": "449d27ec",
   "metadata": {},
   "outputs": [
    {
     "name": "stderr",
     "output_type": "stream",
     "text": [
      "[WDM] - Downloading: 100%|████████████████████████████████████████████████████████| 6.81M/6.81M [00:00<00:00, 11.9MB/s]\n"
     ]
    }
   ],
   "source": [
    "# 구글 크롤러 사용을 위해 드라이버를 생성해주자.\n",
    "# 옵션은 창을 안띄우고 실행시킬 것인지 등의 여부를 확인하는 코드이다.\n",
    "# options.add_argument('--headless')\n",
    "\n",
    "options = Options()\n",
    "driver = webdriver.Chrome(service=Service(ChromeDriverManager().install()), options=options)"
   ]
  },
  {
   "cell_type": "code",
   "execution_count": 5,
   "id": "47326133",
   "metadata": {},
   "outputs": [],
   "source": [
    "# # 참고용\n",
    "\n",
    "# # 아래 코드는 셀레니움이 4로 업데이트 되기 전이므로 오류가 나타날 수 있다. \n",
    "# # mac 사용자의 경우 기본적으로 크롬드라이버를 지원한다는데, 아래 드라이버가 오류날 경우 자세한 사항은 서칭해야할 듯 하다.\n",
    "\n",
    "# from selenium import webdriver\n",
    "\n",
    "\n",
    "# # windows Chrome\n",
    "# driver = webdriver.Chrome(executable_path='경로/chromedriver.exe')\n",
    "\n",
    "# # Windows Edge\n",
    "# driver = webdriver.Edge(executable_path='msedgedriver.exe')\n",
    "\n",
    "# # mac Chrome (brew로 chromedriver 설치한 경우)\n",
    "# driver = webdriver.Chrome()\n",
    "\n",
    "# # mac Safari\n",
    "# driver = webdriver.Safari()"
   ]
  },
  {
   "cell_type": "code",
   "execution_count": 6,
   "id": "f99d5df0",
   "metadata": {},
   "outputs": [],
   "source": [
    "# data;, 라는 페이지가 나타났다. 이제 주소를 넣어서 해당 웹페이지로 이동해보자\n",
    "# 드라이버가 주소를 받는 코드이다\n",
    "\n",
    "driver.get(url)"
   ]
  },
  {
   "cell_type": "code",
   "execution_count": 7,
   "id": "4796f7ec",
   "metadata": {},
   "outputs": [],
   "source": [
    "# 씨네 21이라는 사이트가 나타났다.\n",
    "# F12를 눌러 개발자도구를 열어주자.\n",
    "# 이후 개발자도구 왼쪽 최상단의 네모와 마우스 아이콘이 결합된 버튼을 클릭해보자\n",
    "\n",
    "# 자신이 원하는 부분을 크롤링할 수 있도록 선택 인자가 나타난다."
   ]
  },
  {
   "cell_type": "markdown",
   "id": "b37e47fd",
   "metadata": {},
   "source": [
    "### 문법\n",
    "- By.ID\t태그의 id값으로 추출\n",
    "- By.NAME\t태그의 name값으로 추출\n",
    "- By.XPATH\t태그의 경로로 추출\n",
    "- By.LINK_TEXT\t링크 텍스트값으로 추출\n",
    "- By.PARTIAL_LINK_TEXT\t링크 텍스트의 자식 텍스트 값을 추출\n",
    "- By.TAG_NAME\t태그 이름으로 추출\n",
    "- By.CLASS_NAME\t태그의 클래스명으로 추출\n",
    "- By.CSS_SELECTOR\tcss선택자로 추출"
   ]
  },
  {
   "cell_type": "markdown",
   "id": "1c4c70fb",
   "metadata": {},
   "source": [
    "## driver.find_elements(by = 문법 , value = '값')\n",
    "- 리스트 형식으로 저장되며 다량의 정보를 한 번에 가져온다.\n",
    "\n",
    "## driver.find_element(by = 문법 , value = '값')\n",
    "- 문자형으로 저장되며 한 개의 정보를 가져온다"
   ]
  },
  {
   "cell_type": "code",
   "execution_count": 8,
   "id": "3e2ce601",
   "metadata": {},
   "outputs": [
    {
     "data": {
      "text/plain": [
       "[<selenium.webdriver.remote.webelement.WebElement (session=\"490157f625d66e4f967c16347124cb8e\", element=\"C597DD150B3F189FC3F59DAFDC2EB320_element_22\")>,\n",
       " <selenium.webdriver.remote.webelement.WebElement (session=\"490157f625d66e4f967c16347124cb8e\", element=\"C597DD150B3F189FC3F59DAFDC2EB320_element_23\")>,\n",
       " <selenium.webdriver.remote.webelement.WebElement (session=\"490157f625d66e4f967c16347124cb8e\", element=\"C597DD150B3F189FC3F59DAFDC2EB320_element_24\")>,\n",
       " <selenium.webdriver.remote.webelement.WebElement (session=\"490157f625d66e4f967c16347124cb8e\", element=\"C597DD150B3F189FC3F59DAFDC2EB320_element_25\")>,\n",
       " <selenium.webdriver.remote.webelement.WebElement (session=\"490157f625d66e4f967c16347124cb8e\", element=\"C597DD150B3F189FC3F59DAFDC2EB320_element_26\")>,\n",
       " <selenium.webdriver.remote.webelement.WebElement (session=\"490157f625d66e4f967c16347124cb8e\", element=\"C597DD150B3F189FC3F59DAFDC2EB320_element_27\")>,\n",
       " <selenium.webdriver.remote.webelement.WebElement (session=\"490157f625d66e4f967c16347124cb8e\", element=\"C597DD150B3F189FC3F59DAFDC2EB320_element_28\")>]"
      ]
     },
     "execution_count": 8,
     "metadata": {},
     "output_type": "execute_result"
    }
   ],
   "source": [
    "# 안재홍을 클릭해보니 class=\"name\" 이라는 줄이 선택된다.\n",
    "# 해당 줄로 스크래핑을 시작해보자\n",
    "\n",
    "driver.find_elements(by = By.CLASS_NAME , value = 'name')"
   ]
  },
  {
   "cell_type": "code",
   "execution_count": 9,
   "id": "2f31c02d",
   "metadata": {},
   "outputs": [
    {
     "data": {
      "text/plain": [
       "<selenium.webdriver.remote.webelement.WebElement (session=\"490157f625d66e4f967c16347124cb8e\", element=\"C597DD150B3F189FC3F59DAFDC2EB320_element_22\")>"
      ]
     },
     "execution_count": 9,
     "metadata": {},
     "output_type": "execute_result"
    }
   ],
   "source": [
    "driver.find_element(by = By.CLASS_NAME , value = 'name')"
   ]
  },
  {
   "cell_type": "code",
   "execution_count": 10,
   "id": "cf4ea214",
   "metadata": {},
   "outputs": [
    {
     "name": "stdout",
     "output_type": "stream",
     "text": [
      "안재홍(2편) <class 'str'>\n",
      "박서준(1편) <class 'str'>\n",
      "이신영(1편) <class 'str'>\n",
      "아이유(1편) <class 'str'>\n",
      "정진운(2편) <class 'str'>\n",
      "김종수(2편) <class 'str'>\n",
      "김보라(1편) <class 'str'>\n",
      "------------------------\n",
      "안재홍(2편) <class 'str'>\n",
      "박서준(1편) <class 'str'>\n",
      "이신영(1편) <class 'str'>\n",
      "아이유(1편) <class 'str'>\n",
      "정진운(2편) <class 'str'>\n",
      "김종수(2편) <class 'str'>\n",
      "김보라(1편) <class 'str'>\n"
     ]
    }
   ],
   "source": [
    "# s 하나 차이로 가져오는 데이터가 다른 것을 알 수 있다. 주의하자\n",
    "# 그러면 이제 문자로 가져와보자!\n",
    "\n",
    "names = driver.find_elements(by = By.CLASS_NAME , value = 'name')\n",
    "\n",
    "# .text는 주소에 내장된 텍스트를 문자열로 변환해준다.\n",
    "\n",
    "for name in names :\n",
    "    print(name.text , type(name.text))\n",
    "\n",
    "print('------------------------')\n",
    "\n",
    "for i in range(len(names)) :\n",
    "    print(names[i].text , type(name.text))"
   ]
  },
  {
   "cell_type": "code",
   "execution_count": 11,
   "id": "edbbe2a7",
   "metadata": {},
   "outputs": [
    {
     "name": "stdout",
     "output_type": "stream",
     "text": [
      "안재홍(2편)\n"
     ]
    }
   ],
   "source": [
    "# 이 녀석은 하나만 가져온다!\n",
    "# 물론 다른 영화배우 이름도 가져올 수 있지만 그냥 하지말자! \n",
    "# -> 하나만 가져올 것이 아니라면 find_elements 쓰자\n",
    "\n",
    "name_one = driver.find_element(by = By.CLASS_NAME , value = 'name')\n",
    "\n",
    "print(name_one.text)"
   ]
  },
  {
   "cell_type": "code",
   "execution_count": 12,
   "id": "5729ce02",
   "metadata": {},
   "outputs": [
    {
     "name": "stdout",
     "output_type": "stream",
     "text": [
      "안재홍\n",
      "안재홍편\n",
      "2\n",
      "------------------------------\n",
      "박서준\n",
      "박서준편\n",
      "1\n",
      "------------------------------\n",
      "이신영\n",
      "이신영편\n",
      "1\n",
      "------------------------------\n",
      "아이유\n",
      "아이유편\n",
      "1\n",
      "------------------------------\n",
      "정진운\n",
      "정진운편\n",
      "2\n",
      "------------------------------\n",
      "김종수\n",
      "김종수편\n",
      "2\n",
      "------------------------------\n",
      "김보라\n",
      "김보라편\n",
      "1\n",
      "------------------------------\n"
     ]
    }
   ],
   "source": [
    "# 추가로 이렇게 전처리하면 다양하게 문자를 변형해볼 수 있다.\n",
    "# 궁금하다면 정규표현식을 검색 바람\n",
    "\n",
    "import re\n",
    "\n",
    "for name in names : \n",
    "    print(re.sub('\\(\\w*\\)' , '' , name.text))\n",
    "    # 한글만 가져오기\n",
    "    print(re.sub('[^가-힣]' , '' , name.text))\n",
    "    # 숫자만 가져오기\n",
    "    print(re.sub('[^0-9]' , '' , name.text))\n",
    "    print('-'*30)"
   ]
  },
  {
   "cell_type": "code",
   "execution_count": 13,
   "id": "e9274e3f",
   "metadata": {},
   "outputs": [],
   "source": [
    "# 그럼 이제 더 다양한 정보를 가져와보자 \n",
    "# 헤딩 페이지에는 인물의 이름 말고도 흥행지수와 영화 종류가 적혀있다\n",
    "\n",
    "# 먼저 안재홍 행 전체를 개발자도구의 셀렉터로 눌러보면 <li class = \"people_li\"> 가 선택되는 것을 알 수 있다.\n",
    "# 일단 가져오자\n",
    "\n",
    "people_lst = driver.find_elements(by = By.CLASS_NAME , value = 'people_li')"
   ]
  },
  {
   "cell_type": "code",
   "execution_count": 14,
   "id": "ac675a56",
   "metadata": {},
   "outputs": [
    {
     "name": "stdout",
     "output_type": "stream",
     "text": [
      "안재홍(2편)\n",
      "흥행지수\n",
      "72,988\n",
      "리바운드\n",
      "소공녀\n",
      "1\n",
      "--------------------\n",
      "박서준(1편)\n",
      "흥행지수\n",
      "66,061\n",
      "드림\n",
      "2\n",
      "--------------------\n",
      "이신영(1편)\n",
      "흥행지수\n",
      "62,560\n",
      "리바운드\n",
      "3\n",
      "--------------------\n",
      "아이유(1편)\n",
      "흥행지수\n",
      "59,456\n",
      "드림\n",
      "4\n",
      "--------------------\n",
      "정진운(2편)\n",
      "흥행지수\n",
      "53,041\n",
      "리바운드\n",
      "나는 여기에 있다\n",
      "5\n",
      "--------------------\n",
      "김종수(2편)\n",
      "흥행지수\n",
      "52,850\n",
      "드림\n",
      "헌트\n",
      "6\n",
      "--------------------\n",
      "김보라(1편)\n",
      "흥행지수\n",
      "47,907\n",
      "옥수역귀신\n",
      "7\n",
      "--------------------\n"
     ]
    }
   ],
   "source": [
    "for people in people_lst :\n",
    "    print(people.text)\n",
    "    print('-'*20)"
   ]
  },
  {
   "cell_type": "markdown",
   "id": "90d08f17",
   "metadata": {},
   "source": [
    "###### 놀랍게도 모든 정보를 한 번에 받을 수 있었다.\n",
    "###### 즉 영화배우에 대한 정보가 people_li란 클래스 태그에 담겨있어 해당 클래스를 하나씩 출력해보니 다양한 정보를 알 수 있던 것이다.\n",
    "\n",
    "\n",
    "###### 이를 통해 우리는 태그에 따라 내가 원하는 데이터를 수집할 수 있다는 사실을 알게되었다!\n",
    "\n"
   ]
  },
  {
   "cell_type": "code",
   "execution_count": 15,
   "id": "d150fc60",
   "metadata": {},
   "outputs": [],
   "source": [
    "# CSS_SELECTOR : 가장 많이 사용하는 문법 중 하나\n",
    "# 세부적으로 주소값을 가져와서 안정적이다. 다만 ui가 변화하는 페이지에 대해서 약하다(계속 바꿔줘야함)\n",
    "# > 표시로 자손 태그를 찾아나선다\n",
    "# 추가적으로 알아야할 요소들\n",
    "# .classname class로 태그를 지칭하고 싶다면 앞에 '.'을 붙이자\n",
    "#  #id_name idfh 태그를 지칭하고 싶다면 앞에 '#'을 붙이자\n",
    "#  없음 일반적인 태그들 <a></a> <br></br> <span></span>등을 사용할 때 쓴다!"
   ]
  },
  {
   "cell_type": "code",
   "execution_count": 16,
   "id": "c25385a9",
   "metadata": {},
   "outputs": [
    {
     "data": {
      "text/plain": [
       "'이신영(1편)'"
      ]
     },
     "execution_count": 16,
     "metadata": {},
     "output_type": "execute_result"
    }
   ],
   "source": [
    "# 같은 예로 다시 한 번 \n",
    "# By.CSS_SELECTOR로 가져와보자\n",
    "\n",
    "# CSS_SELECTOR는 처음부터 끝까지 주소를 하나하나 설명해주어야한다.\n",
    "\n",
    "# people_li란 클래스를 찾는다 -> name란 클래스를 찾는다 > a란 태그 이름을 찾는다\n",
    "driver.find_elements(by = By.CSS_SELECTOR , value = '.people_li > .name > a')[2].text"
   ]
  },
  {
   "cell_type": "code",
   "execution_count": 17,
   "id": "b6ab57d1",
   "metadata": {},
   "outputs": [
    {
     "data": {
      "text/plain": [
       "'배우\\n감독'"
      ]
     },
     "execution_count": 17,
     "metadata": {},
     "output_type": "execute_result"
    }
   ],
   "source": [
    "# snb_t란 id를 찾는다.\n",
    "driver.find_elements(by = By.CSS_SELECTOR , value = '#snb_t')[0].text"
   ]
  },
  {
   "cell_type": "code",
   "execution_count": 18,
   "id": "1e6fab0f",
   "metadata": {},
   "outputs": [],
   "source": [
    "img_lst = driver.find_elements(by = By.CSS_SELECTOR , value = '.people_li > a > img')"
   ]
  },
  {
   "cell_type": "code",
   "execution_count": 19,
   "id": "9f0e523b",
   "metadata": {},
   "outputs": [
    {
     "name": "stdout",
     "output_type": "stream",
     "text": [
      "0 - https://image.cine21.com/resize/cine21/still/2017/1212/15_30_06__5a2f776e2a39f[X145,145].jpg\n",
      "1 - https://image.cine21.com/resize/cine21/person/2019/0724/14_47_43__5d37f0ff186e5[X145,145].jpg\n",
      "2 - https://image.cine21.com/resize/cine21/person/2023/0331/18_15_14__6426a4a267857[X145,145].jpg\n",
      "3 - https://image.cine21.com/resize/cine21/person/2019/0403/10_43_10__5ca40fae1db73[X145,145].jpg\n",
      "4 - https://image.cine21.com/resize/cine21/person/2021/0622/16_35_47__60d192d37a61b[X145,145].jpg\n",
      "5 - https://image.cine21.com/resize/cine21/person/2020/0611/16_04_24__5ee1d778c06b0[X145,145].jpg\n",
      "6 - https://image.cine21.com/resize/cine21/person/2019/0807/18_28_19__5d4a99b3a3367[X145,145].jpg\n"
     ]
    }
   ],
   "source": [
    "# 추가로 이미지도 가져와보자.\n",
    "# 주의 아래에는 파일 경로를 지정해주어야한다! \n",
    "# 윈도우에서 \\로 경로를 지정하는데 \\ 사용시 컴퓨터가 경로를 못 읽으므로 / 사용을 권장한다.\n",
    "\n",
    "# url img를 내려받을 수 있는 패키지\n",
    "from urllib.request import urlopen , urlretrieve\n",
    "from urllib.error   import HTTPError\n",
    "from urllib.error   import URLError\n",
    "\n",
    "\n",
    "import os\n",
    "# 폴더 생성\n",
    "img_folder = 'C:/Users/PiGiraffe0/Downloads/test'\n",
    "\n",
    "\n",
    "# 특정 폴더를 생성합니다.\n",
    "\n",
    "if not os.path.isdir(img_folder) :\n",
    "    os.mkdir(img_folder)\n",
    "\n",
    "# 이미지 경로를 통해 이미지 파일에 이미지 저장하기.\n",
    "\n",
    "for idx, link in enumerate(img_lst) :\n",
    "    #.get_attribute('src') 은 src에 적혀있는 이미지 주소를 뽑아준다\n",
    "    print(idx , '-' , link.get_attribute('src'))\n",
    "    # urlretrieve 입력받은 이미지 url에 따라 이미지를 다운받고 특정 경로에 저장한다. \n",
    "    # f'' 형식은 포메팅이다 f'{}' {변수 : 변수 값을 반환한다.} \n",
    "    urlretrieve(link.get_attribute('src') , f'C:/Users/PiGiraffe0/Downloads/test/test_{idx}.jpg')\n"
   ]
  },
  {
   "cell_type": "code",
   "execution_count": 20,
   "id": "1a6135fa",
   "metadata": {},
   "outputs": [],
   "source": [
    "# XPARH : 가장 많이 사용하는 문법 중 하나\n",
    "# 정말 쉽다! 대신 css selector와 마찬가지로 ui 변경시 다시 주소를 찾아줘야한다\n",
    "# > 표시로 자손 태그를 찾아나선다\n",
    "# 기본적으로 XPATH 주소는 알 수가 없기 때문에 주소 분석을 하고 싶다면 하나하나 뜯어봐야한다.\n",
    "\n",
    "# //*[@id=\"rank_holder\"]/ul/li[1]/a/img -> 태그를 통해 해당 페이지의 어디 부분인지 짐작 가능\n"
   ]
  },
  {
   "cell_type": "code",
   "execution_count": 25,
   "id": "a6ccc508",
   "metadata": {},
   "outputs": [
    {
     "data": {
      "text/plain": [
       "'안재홍(2편)\\n흥행지수\\n72,988\\n리바운드\\n소공녀\\n1'"
      ]
     },
     "execution_count": 25,
     "metadata": {},
     "output_type": "execute_result"
    }
   ],
   "source": [
    "# XPATH는 주소를 가져오는 방식이 조금 독특하다!\n",
    "# 개발자도구에서 내가 가져올 데이터의 코드를 마우스 오른쪽 클릭하고 COPY > COPY XPATH를 통해 주소를 복사해야한다.\n",
    "# @는 식별자이다.\n",
    "\n",
    "driver.find_elements(by = By.XPATH , value = '//*[@id=\"rank_holder\"]/ul/li[1]')[0].text\n"
   ]
  },
  {
   "cell_type": "code",
   "execution_count": 29,
   "id": "31a2935e",
   "metadata": {},
   "outputs": [
    {
     "data": {
      "text/plain": [
       "'안재홍(2편)\\n흥행지수\\n72,988\\n리바운드\\n소공녀\\n1'"
      ]
     },
     "execution_count": 29,
     "metadata": {},
     "output_type": "execute_result"
    }
   ],
   "source": [
    "xpath_pop = driver.find_elements(by = By.XPATH , value = '//*[@id=\"rank_holder\"]/ul/li')[0].text\n",
    "xpath_pop "
   ]
  },
  {
   "cell_type": "code",
   "execution_count": 34,
   "id": "853a93cf",
   "metadata": {},
   "outputs": [
    {
     "name": "stdout",
     "output_type": "stream",
     "text": [
      "1\n",
      "배우 이름  :  안재홍\n",
      "흥행 지수 :  72,988\n",
      "순위 :  1\n",
      "영화 :  리바운드\n",
      "영화 :  소공녀\n",
      "\n",
      "2\n",
      "배우 이름  :  박서준\n",
      "흥행 지수 :  66,061\n",
      "순위 :  2\n",
      "영화 :  드림\n",
      "\n",
      "3\n",
      "배우 이름  :  이신영\n",
      "흥행 지수 :  62,560\n",
      "순위 :  3\n",
      "영화 :  리바운드\n",
      "\n",
      "4\n",
      "배우 이름  :  아이유\n",
      "흥행 지수 :  59,456\n",
      "순위 :  4\n",
      "영화 :  드림\n",
      "\n",
      "5\n",
      "배우 이름  :  정진운\n",
      "흥행 지수 :  53,041\n",
      "순위 :  5\n",
      "영화 :  리바운드\n",
      "영화 :  나는 여기에 있다\n",
      "\n",
      "6\n",
      "배우 이름  :  김종수\n",
      "흥행 지수 :  52,850\n",
      "순위 :  6\n",
      "영화 :  드림\n",
      "영화 :  헌트\n",
      "\n",
      "7\n",
      "배우 이름  :  김보라\n",
      "흥행 지수 :  47,907\n",
      "순위 :  7\n",
      "영화 :  옥수역귀신\n",
      "\n"
     ]
    }
   ],
   "source": [
    "# 이렇게도 해볼 수 있다!\n",
    "\n",
    "\n",
    "for idx in range(len(people_lst)) :\n",
    "    print(idx+1)\n",
    "    print('배우 이름  : ' \n",
    "          , re.sub('\\(\\w*\\)' , '' \n",
    "                   , driver.find_element(by = By.XPATH \n",
    "                                         , value = '//*[@id=\"rank_holder\"]/ul/li[{}]/div/a'.format(idx+1)).text))\n",
    "    \n",
    "    print('흥행 지수 : ' \n",
    "          , driver.find_element(by = By.XPATH \n",
    "                                , value = '//*[@id=\"rank_holder\"]/ul/li[{}]/ul[1]/li/strong'.format(idx+1)).text)\n",
    "    \n",
    "    print('순위 : ' \n",
    "          , driver.find_element(by = By.XPATH \n",
    "                                , value = '//*[@id=\"rank_holder\"]/ul/li[{}]/span'.format(idx+1)).text)\n",
    "    \n",
    "    for movie in driver.find_elements(by = By.XPATH \n",
    "                                      , value = '//*[@id=\"rank_holder\"]/ul/li[{}]/ul[2]/li'.format(idx+1)) : \n",
    "        print('영화 : ' , movie.text)\n",
    "        \n",
    "    print()"
   ]
  },
  {
   "cell_type": "markdown",
   "id": "cc971216",
   "metadata": {},
   "source": [
    "## click\n",
    "- 그렇다면 이제 동적 크롤링의 핵심인 click에 대해 살펴보자\n",
    "- click은 말 그대로 클릭이다. 내가 원하는 페이지로 이동할 수 있게 특정 링크를 클릭하여 다른 페이지로 이동한다"
   ]
  },
  {
   "cell_type": "code",
   "execution_count": 35,
   "id": "06092de8",
   "metadata": {},
   "outputs": [],
   "source": [
    "# 이번에는 클릭을 통해 페이즈를 움직여보자.\n",
    "# XPATH로 진행한다. 안재홍 (배우 이름) 을 XPATH 주소로하였다.\n",
    "\n",
    "driver.find_element(by = By.XPATH , value = '//*[@id=\"rank_holder\"]/ul/li[1]/div/a').click()"
   ]
  },
  {
   "cell_type": "code",
   "execution_count": 37,
   "id": "4d13531e",
   "metadata": {},
   "outputs": [],
   "source": [
    "# 클릭을 하였더니 배우의 저보에 관한 페이지로 이동되었다.\n",
    "# 이 때, 우리는 url (주소창)을 유심히 볼 필요가 있다.\n",
    "\n",
    "# 처음 url = 'http://www.cine21.com/rank/person'\n",
    "# 현재 url(배우가 다른 사람일 경우 설명과 다를 수 있습니다.) = 'http://www.cine21.com/db/person/info/?person_id=4883'\n",
    "\n",
    "# 즉 url의 person_id에 따라 배우의 인적사항 페이지가 구별되며, 우리는 이것을 이용하여 크롤링을 좀 더 편하게 할수도 있다\n",
    "# -> 전체 배우 인적사항 크롤링시 사용가능\n",
    "# url만 계속 변환해주면 되기 때문 -> 이 때는 Beautifulsoup을 사용하자(정적 페이지)\n"
   ]
  },
  {
   "cell_type": "code",
   "execution_count": 50,
   "id": "ec2d6d6d",
   "metadata": {},
   "outputs": [],
   "source": [
    "# 그러면 이제 뒤로 가보자!\n",
    "\n",
    "driver.back()"
   ]
  },
  {
   "cell_type": "code",
   "execution_count": 51,
   "id": "e7a72ae7",
   "metadata": {},
   "outputs": [],
   "source": [
    "# 다시 앞으로 가보자\n",
    "\n",
    "driver.forward()"
   ]
  },
  {
   "cell_type": "code",
   "execution_count": 55,
   "id": "c2a08c7c",
   "metadata": {
    "scrolled": false
   },
   "outputs": [
    {
     "name": "stdout",
     "output_type": "stream",
     "text": [
      "배우 이름  :  안재홍\n",
      "흥행 지수 :  72,988\n",
      "순위 :  1\n",
      "영화 :   리바운드  소공녀\n",
      "직업 : 배우\n",
      "생년월일 : 1986-03-31\n",
      "성별 : 남\n",
      "홈페이지 :  https://www.instagram.com/aahnjaehong/\n",
      "------------------------------------------------------------\n",
      "배우 이름  :  박서준\n",
      "흥행 지수 :  66,061\n",
      "순위 :  2\n",
      "영화 :   드림\n",
      "직업 : 배우\n",
      "생년월일 : 1988-12-16\n",
      "성별 : 남\n",
      "홈페이지 :  https://www.instagram.com/bn_sj2013/\n",
      "https://twitter.com/bn_sj2013\n",
      "------------------------------------------------------------\n",
      "배우 이름  :  이신영\n",
      "흥행 지수 :  62,560\n",
      "순위 :  3\n",
      "영화 :   리바운드\n",
      "직업 : 배우\n",
      "생년월일 : 1998-01-24\n",
      "성별 : 남\n",
      "홈페이지 :  https://www.instagram.com/leesin_y/\n",
      "------------------------------------------------------------\n",
      "배우 이름  :  아이유\n",
      "흥행 지수 :  59,456\n",
      "순위 :  4\n",
      "영화 :   드림\n",
      "다른 이름 : 이지은\n",
      "직업 : 가수\n",
      "생년월일 : 1993-05-16\n",
      "성별 : 여\n",
      "홈페이지 :  https://twitter.com/lily199iu\n",
      "https://www.instagram.com/dlwlrma/\n",
      "학교 : 동덕여자고등\n",
      "------------------------------------------------------------\n",
      "배우 이름  :  정진운\n",
      "흥행 지수 :  53,041\n",
      "순위 :  5\n",
      "영화 :   리바운드  나는 여기에 있다\n",
      "다른 이름 : 2am; 진운\n",
      "직업 : 가수\n",
      "생년월일 : 1991-05-02\n",
      "성별 : 남\n",
      "홈페이지 :  https://twitter.com/2amjinwoon\n",
      "https://www.facebook.com/jinwoon.jeong\n",
      "https://instagram.com/jinwoon52\n",
      "신장/체중 : 185cm, 72kg\n",
      "학교 : 대진대 연극영화학\n",
      "취미 : 악기다루기\n",
      "특기 : 기타, 베이스, 드럼 연주, 농구\n",
      "소속사 : JYP엔터테인먼트\n",
      "------------------------------------------------------------\n",
      "배우 이름  :  김종수\n",
      "흥행 지수 :  52,850\n",
      "순위 :  6\n",
      "영화 :   드림  헌트\n",
      "직업 : 배우\n",
      "생년월일 : 1964-11-30\n",
      "성별 : 남\n",
      "홈페이지 :  http://www.artistcompany.co.kr/portfolio-item/kim-jong-soo/\n",
      "소속사 : 아티스트컴퍼니\n",
      "------------------------------------------------------------\n",
      "배우 이름  :  김보라\n",
      "흥행 지수 :  47,907\n",
      "순위 :  7\n",
      "영화 :   옥수역귀신\n",
      "직업 : 배우\n",
      "생년월일 : 1995-09-28\n",
      "성별 : 여\n",
      "홈페이지 :  http://instagram.com/kim_bora95\n",
      "신장/체중 : 161cm\n",
      "------------------------------------------------------------\n",
      "배우 이름  :  고창석\n",
      "흥행 지수 :  46,475\n",
      "순위 :  8\n",
      "영화 :   드림  카운트\n",
      "직업 : 배우\n",
      "생년월일 : 1970-10-13\n",
      "성별 : 남\n",
      "------------------------------------------------------------\n",
      "배우 이름  :  김택\n",
      "흥행 지수 :  41,707\n",
      "순위 :  9\n",
      "영화 :   리바운드\n",
      "직업 : 배우\n",
      "생년월일 : 1998-12-26\n",
      "성별 : 남\n",
      "홈페이지 :  https://www.instagram.com/___taegie/\n",
      "------------------------------------------------------------\n",
      "배우 이름  :  정승길\n",
      "흥행 지수 :  39,653\n",
      "순위 :  10\n",
      "영화 :   드림  말이야 바른 말이지\n",
      "직업 : 배우\n",
      "생년월일 : 1972-08-10\n",
      "성별 : 남\n",
      "------------------------------------------------------------\n",
      "배우 이름  :  이현우\n",
      "흥행 지수 :  33,119\n",
      "순위 :  11\n",
      "영화 :   드림  영웅\n",
      "직업 : 배우\n",
      "생년월일 : 1993-03-23\n",
      "성별 : 남\n",
      "홈페이지 :  https://www.instagram.com/hihyunwoo/\n",
      "https://twitter.com/hihyunwoo\n",
      "신장/체중 : 170cm\n",
      "학교 : 평촌고등\n",
      "취미 : 컴퓨터게임, 축구, 농구, 스노우보드\n",
      "------------------------------------------------------------\n",
      "배우 이름  :  이하늬\n",
      "흥행 지수 :  31,974\n",
      "순위 :  12\n",
      "영화 :   킬링 로맨스  유령\n",
      "다른 이름 : LEE Ha-nee\n",
      "직업 : 배우\n",
      "생년월일 : 1983-03-02\n",
      "성별 : 여\n",
      "홈페이지 :  https://www.facebook.com/saram.leehoney\n",
      "https://instagram.com/honey_lee32/\n",
      "------------------------------------------------------------\n",
      "배우 이름  :  김재현\n",
      "흥행 지수 :  31,938\n",
      "순위 :  13\n",
      "영화 :   옥수역귀신\n",
      "다른 이름 : 엔플라잉;N.Flying;닥터 제이;Dr Jay\n",
      "직업 : 가수\n",
      "생년월일 : 1994-07-15\n",
      "성별 : 남\n",
      "------------------------------------------------------------\n",
      "배우 이름  :  정건주\n",
      "흥행 지수 :  31,280\n",
      "순위 :  14\n",
      "영화 :   리바운드\n",
      "직업 : 배우\n",
      "생년월일 : 1995-05-26\n",
      "성별 : 남\n",
      "홈페이지 :  http://instagram.com/jrjswn\n",
      "------------------------------------------------------------\n"
     ]
    }
   ],
   "source": [
    "# 그렇다면 우리는 이제까지 배운 것을 사용한다면 여러명의 영화배우들을 각각의 정보와 함께 한 번에 가져올 수 있을 것이다!\n",
    "# 해당 코드는 예시입니다.\n",
    "\n",
    "import time \n",
    "\n",
    "# 두 페이지를 크롤링 할 것이다.\n",
    "pages = [1,2]\n",
    "\n",
    "for page in pages :\n",
    "    driver.find_element(By.XPATH , f'//*[@id=\"rank_holder\"]/div/div/a[{page}]').click()\n",
    "    \n",
    "    # page 로드 시간을 생각해서 1초간 기다려주자\n",
    "    \n",
    "    time.sleep(1)\n",
    "    for idx in range(len(people_lst)) :\n",
    "        print('배우 이름  : ' \n",
    "              , re.sub('\\(\\w*\\)','',driver.find_element(by = By.XPATH , value = '//*[@id=\"rank_holder\"]/ul/li[{}]/div/a'.format(idx+1)).text))\n",
    "\n",
    "        print('흥행 지수 : ' \n",
    "              , driver.find_element(by = By.XPATH , value = '//*[@id=\"rank_holder\"]/ul/li[{}]/ul[1]/li/strong'.format(idx+1)).text)\n",
    "\n",
    "        print('순위 : ' \n",
    "              , driver.find_element(by = By.XPATH , value = '//*[@id=\"rank_holder\"]/ul/li[{}]/span'.format(idx+1)).text)\n",
    "        lst_movie = []\n",
    "        for movie in driver.find_elements(by = By.XPATH , value = '//*[@id=\"rank_holder\"]/ul/li[{}]/ul[2]/li'.format(idx+1)) : \n",
    "            lst_movie.append(movie.text)\n",
    "        print('영화 : ' , end = '')\n",
    "        for cnt in lst_movie :\n",
    "            print(' ' , cnt , end = '')\n",
    "\n",
    "        print()\n",
    "\n",
    "        driver.find_element(by = By.XPATH , value = f'//*[@id=\"rank_holder\"]/ul/li[{idx+1}]/a/img' ).click()\n",
    "\n",
    "        basic_info = driver.find_elements(by = By.XPATH , value = '//*[@id=\"info_content\"]/div[1]/ul/li/span' )\n",
    "        information = driver.find_elements(by = By.XPATH , value = '//*[@id=\"info_content\"]/div[1]/ul/li' )\n",
    "\n",
    "        for basic , info in zip(basic_info , information):\n",
    "            print(basic.text , ': ' , end = '')\n",
    "            print(re.sub(f'{basic.text}' ,'',info.text))\n",
    "        print('-' * 60)\n",
    "        driver.back()\n",
    "    \n"
   ]
  },
  {
   "cell_type": "code",
   "execution_count": 57,
   "id": "8a4d93db",
   "metadata": {},
   "outputs": [],
   "source": [
    "# 구글 크롤러 종료\n",
    "\n",
    "driver.close()"
   ]
  },
  {
   "cell_type": "code",
   "execution_count": null,
   "id": "99011728",
   "metadata": {},
   "outputs": [],
   "source": [
    "# 여기까지 다들 고생하였다!\n",
    "# 이 밑으로는 페이지의 특정 태그가 나타날 때까지 기다리는 WebDriverWait와 html의 body 헤더 위치로 이동하는 send_keys,\n",
    "# iframe으로 다중 html 구조에서 내가 원하는 html 찾기, \n",
    "# 리스트로 저장된 데이터를 데이터프레임으로 저장하고 이를 엑셀로 변화하는 과정을 진행한다.\n",
    "\n",
    "# 코드에 대해 설명은 크게 없으며 직접 해보도록 하자"
   ]
  },
  {
   "cell_type": "markdown",
   "id": "34cfa557",
   "metadata": {},
   "source": [
    "## 응용"
   ]
  },
  {
   "cell_type": "code",
   "execution_count": 58,
   "id": "043c95c2",
   "metadata": {},
   "outputs": [],
   "source": [
    " from selenium.webdriver.chrome.service import Service\n",
    "from webdriver_manager.chrome import ChromeDriverManager\n",
    "from selenium import webdriver\n",
    "from selenium.webdriver.chrome.options import Options\n",
    "import subprocess\n",
    "import shutil\n",
    "from selenium.webdriver.common.by import By\n",
    "import pandas as pd\n",
    "import time\n",
    "\n",
    "from selenium.webdriver.support.ui import WebDriverWait\n",
    "from selenium.webdriver.support import expected_conditions as EC\n",
    "\n",
    "# 셀레니움 신버전 크롬 드라이버 패키지\n",
    "\n",
    "from selenium.webdriver.chrome.service import Service\n",
    "from webdriver_manager.chrome import ChromeDriverManager\n",
    "\n",
    "\n",
    "# Chrome headless 설정\n",
    "options = Options()\n",
    "# options.add_argument('--headless')\n",
    "\n",
    "# 드라이버 생성\n",
    "driver = webdriver.Chrome(service=Service(ChromeDriverManager().install()), options=options)\n",
    "\n",
    "# 리뷰 페이지 열기\n",
    "name = \"고기다 성산흑돼지\"\n",
    "\n",
    "# url = \"https://map.naver.com/v5/entry/place/35221577?lng=126.921184900001&lat=33.4497916999986&placePath=%2F&entry=plt&c=15,0,0,0,dh\"\n",
    "url = f\"https://map.naver.com/v5/search/{name}\"\n",
    "\n",
    "driver.get(url)\n",
    "wait = WebDriverWait(driver, 10)\n",
    "iframe = wait.until(EC.presence_of_element_located((By.ID, \"entryIframe\")))\n",
    "driver.switch_to.frame(iframe)\n",
    "# time.sleep(2)\n",
    "# driver.switch_to.frame('entryIframe')\n",
    "# driver.switch_to.frame('searchIframe')\n",
    "\n",
    "\n"
   ]
  },
  {
   "cell_type": "code",
   "execution_count": 59,
   "id": "32b303cc",
   "metadata": {},
   "outputs": [],
   "source": [
    "# 리뷰 클릭\n",
    "driver.find_element(by = By.XPATH , value = '//*[@id=\"app-root\"]/div/div/div/div[5]/div/div/div/div/a[5]/span').click()"
   ]
  },
  {
   "cell_type": "code",
   "execution_count": 60,
   "id": "48e7b14e",
   "metadata": {},
   "outputs": [],
   "source": [
    "# 최신순 클릭\n",
    "driver.find_element(by = By.XPATH , value = '//*[@id=\"app-root\"]/div/div/div/div[7]/div[3]/div[3]/div[1]/div[3]/div/span[2]/a').click()"
   ]
  },
  {
   "cell_type": "code",
   "execution_count": 61,
   "id": "975c22bb",
   "metadata": {},
   "outputs": [],
   "source": [
    "# 리뷰 전체 펼치기\n",
    "click = driver.find_element(by = By.XPATH , value = '//*[@id=\"app-root\"]/div/div/div/div[7]/div[3]/div[3]/div[2]/a')\n",
    "\n",
    "while click is not None:\n",
    "    try :\n",
    "        click.click() \n",
    "    except :\n",
    "        break\n"
   ]
  },
  {
   "cell_type": "code",
   "execution_count": 62,
   "id": "7f227557",
   "metadata": {},
   "outputs": [],
   "source": [
    "# 긴 리뷰 글 펼치기\n",
    "\n",
    "from selenium.webdriver.common.keys import Keys\n",
    "\n",
    "# driver 객체를 사용하여 body 태그를 찾고, Keys.HOME을 사용하여 스크롤을 맨 위로 이동합니다.\n",
    "body = driver.find_element(by = By.TAG_NAME , value = 'body')\n",
    "body.send_keys(Keys.HOME)\n",
    "\n",
    "\n",
    "review_click = driver.find_elements(by = By.CLASS_NAME , value = 'rvCSr')\n",
    "\n",
    "for address in review_click :\n",
    "    address.click()\n",
    "    time.sleep(0.5)\n",
    "    \n",
    "    "
   ]
  },
  {
   "cell_type": "code",
   "execution_count": 63,
   "id": "523e8aab",
   "metadata": {},
   "outputs": [],
   "source": [
    "# 리뷰 가져오기\n",
    "\n",
    "review_lst = []\n",
    "\n",
    "review = driver.find_elements(by = By.CLASS_NAME , value = 'zPfVt')\n",
    "\n",
    "for rev in review :\n",
    "    review_lst.append(rev.text)"
   ]
  },
  {
   "cell_type": "code",
   "execution_count": 64,
   "id": "51836198",
   "metadata": {},
   "outputs": [],
   "source": [
    "import pandas as pd\n",
    "# 데이터 프레임 변환\n",
    "df = pd.DataFrame(review_lst , columns = ['리뷰'])"
   ]
  },
  {
   "cell_type": "code",
   "execution_count": 65,
   "id": "8ce8cb44",
   "metadata": {},
   "outputs": [
    {
     "data": {
      "text/html": [
       "<div>\n",
       "<style scoped>\n",
       "    .dataframe tbody tr th:only-of-type {\n",
       "        vertical-align: middle;\n",
       "    }\n",
       "\n",
       "    .dataframe tbody tr th {\n",
       "        vertical-align: top;\n",
       "    }\n",
       "\n",
       "    .dataframe thead th {\n",
       "        text-align: right;\n",
       "    }\n",
       "</style>\n",
       "<table border=\"1\" class=\"dataframe\">\n",
       "  <thead>\n",
       "    <tr style=\"text-align: right;\">\n",
       "      <th></th>\n",
       "      <th>리뷰</th>\n",
       "    </tr>\n",
       "  </thead>\n",
       "  <tbody>\n",
       "    <tr>\n",
       "      <th>0</th>\n",
       "      <td>맛난데 관광지다운 가격</td>\n",
       "    </tr>\n",
       "    <tr>\n",
       "      <th>1</th>\n",
       "      <td>비오는 제주여행 첫날 저녁 먹었던 훈연 흑돼지! 비 오는 날 픽업서비스도 만족 고기...</td>\n",
       "    </tr>\n",
       "    <tr>\n",
       "      <th>2</th>\n",
       "      <td>제주도에서 수없이 많은 흑돼지를 먹었지만 진짜 여기 미쳤네요!!ㅋㅋㅋㅋㅋ 미리 예약...</td>\n",
       "    </tr>\n",
       "    <tr>\n",
       "      <th>3</th>\n",
       "      <td>맛있게 잘먹고 갑니다^^</td>\n",
       "    </tr>\n",
       "    <tr>\n",
       "      <th>4</th>\n",
       "      <td>픽업서비스가 있어서 가까운 곳이라면 편하고 좋아요! 고기도 예약하길 잘했어요 향기가...</td>\n",
       "    </tr>\n",
       "    <tr>\n",
       "      <th>...</th>\n",
       "      <td>...</td>\n",
       "    </tr>\n",
       "    <tr>\n",
       "      <th>559</th>\n",
       "      <td>성산맛집 인정합니다\\n친절하고 싸요^^\\n제주오면 꼭다시오겠습니다</td>\n",
       "    </tr>\n",
       "    <tr>\n",
       "      <th>560</th>\n",
       "      <td>고기맛있어요</td>\n",
       "    </tr>\n",
       "    <tr>\n",
       "      <th>561</th>\n",
       "      <td>제주여행중 가장 마음에드는 식당이네요\\n제주올때 또갈게요</td>\n",
       "    </tr>\n",
       "    <tr>\n",
       "      <th>562</th>\n",
       "      <td>아쉬움</td>\n",
       "    </tr>\n",
       "    <tr>\n",
       "      <th>563</th>\n",
       "      <td>가게 안도 넓고 깨끗하고 친절하세요 ! \\n야채 반찬 셀프로 먹고 싶은 만큼 먹을 ...</td>\n",
       "    </tr>\n",
       "  </tbody>\n",
       "</table>\n",
       "<p>564 rows × 1 columns</p>\n",
       "</div>"
      ],
      "text/plain": [
       "                                                    리뷰\n",
       "0                                         맛난데 관광지다운 가격\n",
       "1    비오는 제주여행 첫날 저녁 먹었던 훈연 흑돼지! 비 오는 날 픽업서비스도 만족 고기...\n",
       "2    제주도에서 수없이 많은 흑돼지를 먹었지만 진짜 여기 미쳤네요!!ㅋㅋㅋㅋㅋ 미리 예약...\n",
       "3                                        맛있게 잘먹고 갑니다^^\n",
       "4    픽업서비스가 있어서 가까운 곳이라면 편하고 좋아요! 고기도 예약하길 잘했어요 향기가...\n",
       "..                                                 ...\n",
       "559               성산맛집 인정합니다\\n친절하고 싸요^^\\n제주오면 꼭다시오겠습니다\n",
       "560                                             고기맛있어요\n",
       "561                    제주여행중 가장 마음에드는 식당이네요\\n제주올때 또갈게요\n",
       "562                                                아쉬움\n",
       "563  가게 안도 넓고 깨끗하고 친절하세요 ! \\n야채 반찬 셀프로 먹고 싶은 만큼 먹을 ...\n",
       "\n",
       "[564 rows x 1 columns]"
      ]
     },
     "execution_count": 65,
     "metadata": {},
     "output_type": "execute_result"
    }
   ],
   "source": [
    "df"
   ]
  },
  {
   "cell_type": "code",
   "execution_count": null,
   "id": "39998b67",
   "metadata": {},
   "outputs": [],
   "source": [
    "# 엑셀로 저장 (경로 미지정시 현재 실행 파일과 동일한 위치에 엑셀이 저장됩니다.)\n",
    "df.to_excel('리뷰_모음_test.xlsx' , index = False)"
   ]
  }
 ],
 "metadata": {
  "kernelspec": {
   "display_name": "Python 3 (ipykernel)",
   "language": "python",
   "name": "python3"
  },
  "language_info": {
   "codemirror_mode": {
    "name": "ipython",
    "version": 3
   },
   "file_extension": ".py",
   "mimetype": "text/x-python",
   "name": "python",
   "nbconvert_exporter": "python",
   "pygments_lexer": "ipython3",
   "version": "3.9.13"
  }
 },
 "nbformat": 4,
 "nbformat_minor": 5
}
